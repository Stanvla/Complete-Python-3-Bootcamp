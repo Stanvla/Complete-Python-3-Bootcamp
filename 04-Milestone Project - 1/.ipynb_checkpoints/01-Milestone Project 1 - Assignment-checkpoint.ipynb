{
 "cells": [
  {
   "cell_type": "markdown",
   "metadata": {},
   "source": [
    "# Milestone Project 1\n",
    "## Congratulations on making it to your first milestone!\n",
    "You've already learned a ton and are ready to work on a real project.\n",
    "\n",
    "Your assignment: Create a Tic Tac Toe game. You are free to use any IDE you like.\n",
    "\n",
    "Here are the requirements:\n",
    "\n",
    "* 2 players should be able to play the game (both sitting at the same computer)\n",
    "* The board should be printed out every time a player makes a move\n",
    "* You should be able to accept input of the player position and then place a symbol on the board\n",
    "\n",
    "Feel free to use Google to help you figure anything out (but don't just Google \"Tic Tac Toe in Python\" otherwise you won't learn anything!) Keep in mind that this project can take anywhere between several hours to several days.\n",
    "\n",
    "There are 4 Jupyter Notebooks related to this assignment:\n",
    "\n",
    "* This Assignment Notebook\n",
    "* A \"Walkthrough Steps Workbook\" Notebook\n",
    "* A \"Complete Walkthrough Solution\" Notebook\n",
    "* An \"Advanced Solution\" Notebook\n",
    "\n",
    "I encourage you to just try to start the project on your own without referencing any of the notebooks. If you get stuck, check out the next lecture which is a text lecture with helpful hints and steps. If you're still stuck after that, then check out the Walkthrough Steps Workbook, which breaks up the project in steps for you to solve. Still stuck? Then check out the Complete Walkthrough Solution video for more help on approaching the project!"
   ]
  },
  {
   "cell_type": "markdown",
   "metadata": {},
   "source": [
    "There are parts of this that will be a struggle...and that is good! I have complete faith that if you have made it this far through the course you have all the tools and knowledge to tackle this project. Remember, it's totally open book, so take your time, do a little research, and remember:\n",
    "\n",
    "## HAVE FUN!"
   ]
  },
  {
   "cell_type": "code",
   "execution_count": 13,
   "metadata": {},
   "outputs": [
    {
     "name": "stdout",
     "output_type": "stream",
     "text": [
      "   |   |   \n",
      "-----------\n",
      " o | o |   \n",
      "-----------\n",
      " x | x | x \n",
      "\n",
      "\n",
      "Player x won.\n"
     ]
    }
   ],
   "source": [
    "from IPython.display import clear_output\n",
    "\n",
    "def switch_player(pre):\n",
    "    if pre.lower() == 'x':\n",
    "        return 'o'\n",
    "    else:\n",
    "        return 'x'\n",
    "\n",
    "def move(cur_player, keyboard):\n",
    "    x = input('Enter place: ')\n",
    "    while x in keyboard:\n",
    "        if keyboard[x] == ' ':\n",
    "            break\n",
    "        x = input('Choose another place: ')\n",
    "    \n",
    "    keyboard[x] = cur_player\n",
    "    return (switch_player(cur_player), keyboard)\n",
    "    \n",
    "def display_keyboard(keyboard):\n",
    "    clear_output()\n",
    "    print(f' {keyboard[\"7\"]} | {keyboard[\"8\"]} | {keyboard[\"9\"]} ')\n",
    "    print('-'*11)\n",
    "    print(f' {keyboard[\"4\"]} | {keyboard[\"5\"]} | {keyboard[\"6\"]} ')\n",
    "    print('-'*11)\n",
    "    print(f' {keyboard[\"1\"]} | {keyboard[\"2\"]} | {keyboard[\"3\"]} ')\n",
    "    print()\n",
    "    print()\n",
    "    \n",
    "\n",
    "def start_game():\n",
    "    print(\"This is a Tic Tac Toe game.\")\n",
    "    char = input('Choose your charecter (X or O): ')\n",
    "    first = input('Do you want to move first (Y or N): ')\n",
    "    first = first.lower() == 'y'\n",
    "    return (char, first)\n",
    "\n",
    "def game_finished(keyboard):\n",
    "    x = []\n",
    "    x.append(f'{keyboard[\"7\"]}{keyboard[\"8\"]}{keyboard[\"9\"]}'.lower())\n",
    "    x.append(f'{keyboard[\"4\"]}{keyboard[\"5\"]}{keyboard[\"6\"]}'.lower())\n",
    "    x.append(f'{keyboard[\"1\"]}{keyboard[\"2\"]}{keyboard[\"3\"]}'.lower())\n",
    "    \n",
    "    x.append(f'{keyboard[\"7\"]}{keyboard[\"4\"]}{keyboard[\"1\"]}'.lower())\n",
    "    x.append(f'{keyboard[\"8\"]}{keyboard[\"5\"]}{keyboard[\"2\"]}'.lower())\n",
    "    x.append(f'{keyboard[\"9\"]}{keyboard[\"6\"]}{keyboard[\"3\"]}'.lower())\n",
    "    \n",
    "    x.append(f'{keyboard[\"1\"]}{keyboard[\"5\"]}{keyboard[\"9\"]}'.lower())\n",
    "    x.append(f'{keyboard[\"7\"]}{keyboard[\"5\"]}{keyboard[\"3\"]}'.lower())\n",
    "    \n",
    "    return 'ooo' in x or 'xxx' in x\n",
    "    \n",
    "\n",
    "# ----------------------------------------------------\n",
    "game = start_game()\n",
    "keyboard = {}\n",
    "for x in range(10):\n",
    "    keyboard[str(x)] = ' '\n",
    "cur_player = None\n",
    "\n",
    "if game[1]:\n",
    "    cur_player = game[0]\n",
    "else:\n",
    "    cur_player = switch_player(game[0])\n",
    "    \n",
    "\n",
    "while True:\n",
    "    display_keyboard(keyboard)\n",
    "    \n",
    "    if game_finished(keyboard):\n",
    "        print(f'Player {switch_player(cur_player)} won.')\n",
    "        break\n",
    "\n",
    "    cur_player, keyboard = move(cur_player, keyboard)\n",
    "    "
   ]
  },
  {
   "cell_type": "code",
   "execution_count": null,
   "metadata": {},
   "outputs": [],
   "source": []
  },
  {
   "cell_type": "code",
   "execution_count": null,
   "metadata": {},
   "outputs": [],
   "source": []
  }
 ],
 "metadata": {
  "kernelspec": {
   "display_name": "Python 3",
   "language": "python",
   "name": "python3"
  },
  "language_info": {
   "codemirror_mode": {
    "name": "ipython",
    "version": 3
   },
   "file_extension": ".py",
   "mimetype": "text/x-python",
   "name": "python",
   "nbconvert_exporter": "python",
   "pygments_lexer": "ipython3",
   "version": "3.6.5"
  }
 },
 "nbformat": 4,
 "nbformat_minor": 1
}
